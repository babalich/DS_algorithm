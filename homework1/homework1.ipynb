{
 "cells": [
  {
   "cell_type": "code",
   "execution_count": 1,
   "metadata": {},
   "outputs": [],
   "source": [
    "import numpy as np\n",
    "import matplotlib.pyplot as plt"
   ]
  },
  {
   "cell_type": "code",
   "execution_count": 2,
   "metadata": {},
   "outputs": [],
   "source": [
    "X = np.array([[1, 1, 1, 1, 1, 1, 1, 1, 1, 1],\n",
    "              [1, 1, 2, 1, 3, 0, 5, 10, 1, 2]])\n",
    "y = [45, 55, 50, 59, 65, 35, 75, 80, 50, 60]"
   ]
  },
  {
   "cell_type": "code",
   "execution_count": 3,
   "metadata": {},
   "outputs": [],
   "source": [
    "def calc_mse(y, y_pred):\n",
    "  err = np.mean((y - y_pred)**2)\n",
    "  return err"
   ]
  },
  {
   "cell_type": "code",
   "execution_count": 4,
   "metadata": {},
   "outputs": [],
   "source": [
    "def calc_mae(y, y_pred):\n",
    "  err = np.mean(np.abs(y - y_pred))\n",
    "  return err"
   ]
  },
  {
   "cell_type": "markdown",
   "metadata": {},
   "source": [
    "### 1. Подберите скорость обучения (alpha) и количество итераций:"
   ]
  },
  {
   "cell_type": "markdown",
   "metadata": {},
   "source": [
    "Для подбора скорости обучения воспользуемся следующей логикой: попробуем  перебрать несколько значений alpha от большего к меньшему, и возьмем наибольшее из тех, при котором метод будет сходиться. Количество итераций при этом ограничим."
   ]
  },
  {
   "cell_type": "code",
   "execution_count": 5,
   "metadata": {},
   "outputs": [],
   "source": [
    "n = X.shape[1]\n",
    "#alpha = 1e-4\n",
    "W = np.array([1, 0.5])"
   ]
  },
  {
   "cell_type": "code",
   "execution_count": 6,
   "metadata": {},
   "outputs": [
    {
     "data": {
      "text/plain": [
       "array([0.001, 0.008, 0.027, 0.064, 0.125, 0.216, 0.343, 0.512, 0.729,\n",
       "       1.   ])"
      ]
     },
     "execution_count": 6,
     "metadata": {},
     "output_type": "execute_result"
    }
   ],
   "source": [
    "alpha = (np.arange(0, 1.1, 0.1)**3)[1:]\n",
    "alpha"
   ]
  },
  {
   "cell_type": "code",
   "execution_count": 7,
   "metadata": {},
   "outputs": [
    {
     "name": "stdout",
     "output_type": "stream",
     "text": [
      "Скорость обучения 0.0010000000000000002\n",
      "0 [1.1102 0.84  ] 3173.15\n",
      "20 [2.96498603 5.80455867] 1660.357367020027\n",
      "40 [4.36705894 8.42208511] 1187.5939302355498\n",
      "60 [5.51559077 9.76902705] 1021.5103081244217\n",
      "80 [ 6.51870117 10.42878889] 946.6271582037792\n",
      "100 [ 7.43515582 10.71754582] 899.5990444359252\n",
      "------------------------------------------------------------------\n",
      "Скорость обучения 0.008000000000000002\n",
      "0 [1.8816 3.22  ] 3173.15\n",
      "20 [10.22207724 10.70868337] 794.5136248852729\n",
      "40 [15.92158564  9.69230345] 581.8694764494738\n",
      "60 [20.73878957  8.80291406] 429.647088391008\n",
      "80 [24.81483685  8.05024132] 320.660888114296\n",
      "100 [28.26377728  7.41336809] 242.63036945232983\n",
      "------------------------------------------------------------------\n",
      "Скорость обучения 0.027000000000000014\n",
      "0 [3.9754 9.68  ] 3173.15\n",
      "20 [22.98158608  8.38876511] 380.63350601591\n",
      "40 [33.51116301  6.44439818] 153.0838434110827\n",
      "60 [39.46880407  5.34427418] 80.23829445232431\n",
      "80 [42.83964103  4.72182335] 56.91822470421719\n",
      "100 [44.74686264  4.36964029] 49.45276304142594\n",
      "------------------------------------------------------------------\n",
      "Скорость обучения 0.06400000000000002\n",
      "0 [ 8.0528 22.26  ] 3173.15\n",
      "20 [37.31528742  8.3596519 ] 227.94515664320775\n",
      "40 [44.72262868  4.99064469] 56.57699955541634\n",
      "60 [46.59723389  4.17316134] 46.56226204239914\n",
      "80 [47.07154263  3.97456962] 45.974356700440026\n",
      "100 [47.1915266   3.92626907] 45.93968451663295\n",
      "------------------------------------------------------------------\n",
      "Скорость обучения 0.125\n",
      "0 [14.775 43.   ] 3173.15\n",
      "20 [4.18080751e+09 2.26408571e+10] 1.041799076975987e+21\n",
      "40 [2.95761536e+18 1.60167497e+19] 5.213711789180465e+38\n",
      "60 [2.09229646e+27 1.13306785e+28] 2.6092162319381618e+56\n",
      "80 [1.48014665e+36 8.01562593e+36] 1.305789353208513e+74\n",
      "100 [1.04709545e+45 5.67046883e+45] 6.534858299904673e+91\n",
      "------------------------------------------------------------------\n",
      "Скорость обучения 0.2160000000000001\n",
      "0 [24.8032 73.94  ] 3173.15\n",
      "20 [7.95978376e+15 4.31056269e+16] 9.52807384878189e+32\n",
      "40 [5.38509499e+30 2.91625882e+31] 4.361032391839254e+62\n",
      "60 [3.64322059e+45 1.97295947e+46] 1.996059625955002e+92\n",
      "80 [2.46477662e+60 1.33478176e+61] 9.13603402218084e+121\n",
      "100 [1.66751468e+75 9.03030381e+75] 4.1815944057538763e+151\n",
      "------------------------------------------------------------------\n",
      "Скорость обучения 0.3430000000000001\n",
      "0 [ 38.7986 117.12  ] 3173.15\n",
      "20 [5.14299904e+20 2.78515352e+21] 1.3851927402445595e+42\n",
      "40 [1.32666444e+40 7.18445426e+40] 9.217210307928209e+80\n",
      "60 [3.42220273e+59 1.85326886e+60] 6.133223441929008e+119\n",
      "80 [8.82775717e+78 4.78060735e+79] 4.0811078983704843e+158\n",
      "100 [2.27716774e+98 1.23318354e+99] 2.715609798964614e+197\n",
      "------------------------------------------------------------------\n",
      "Скорость обучения 0.5120000000000001\n",
      "0 [ 57.4224 174.58  ] 3173.15\n",
      "20 [4.80053080e+24 2.59969235e+25] 5.053050843638284e+49\n",
      "40 [7.47920843e+47 4.05031064e+48] 1.2265532839015e+96\n",
      "60 [1.16525778e+71 6.31036831e+71] 2.9772765103751444e+142\n",
      "80 [1.81546712e+94 9.83152943e+94] 7.226897955085857e+188\n",
      "100 [2.82849075e+117 1.53174849e+118] 1.754222487270533e+235\n",
      "------------------------------------------------------------------\n",
      "Скорость обучения 0.7290000000000001\n",
      "0 [ 81.3358 248.36  ] 3173.15\n",
      "20 [1.23017065e+28 6.66189920e+28] 1.5713395786457874e+56\n",
      "40 [3.37979164e+54 1.83030145e+55] 1.186094200766771e+109\n",
      "60 [9.28569669e+80 5.02860114e+81] 8.952994452701238e+161\n",
      "80 [2.55116801e+107 1.38156638e+108] 6.757988498576321e+214\n",
      "100 [7.00912211e+133 3.79573883e+134] 5.101132228794175e+267\n",
      "------------------------------------------------------------------\n",
      "Скорость обучения 1.0\n",
      "0 [111.2 340.5] 3173.15\n",
      "20 [1.22942267e+31 6.65784857e+31] 8.129290304745425e+61\n",
      "40 [2.42950096e+60 1.31567848e+61] 3.1745659162337444e+120\n",
      "60 [4.80101356e+89 2.59995379e+90] 1.2396984704347572e+179\n",
      "80 [9.48743451e+118 5.13785079e+119] 4.841141554942337e+237\n",
      "100 [1.87484189e+148 1.01530692e+149] 1.8905122587406546e+296\n",
      "------------------------------------------------------------------\n"
     ]
    }
   ],
   "source": [
    "for k_ in alpha:\n",
    "    print(f'Скорость обучения {k_}')\n",
    "    W = np.array([1, 0.5])\n",
    "    for i in range(101):\n",
    "      y_pred = np.dot(W, X)\n",
    "      err = calc_mse(y, y_pred)\n",
    "      for ii in range(W.shape[0]):\n",
    "        W[ii] -= k_ * (1/n * 2 * np.sum(X[ii] * (y_pred - y)))\n",
    "      if i % 20 == 0:\n",
    "        print(i, W, err)\n",
    "    print('------------------------------------------------------------------')"
   ]
  },
  {
   "cell_type": "markdown",
   "metadata": {},
   "source": [
    "Мы видим, что при alpha > 0.125 ошибка начинает расти. Значит в качестве скорости обучения выберем 0.064. <br>\n",
    "Теперь подберем количество итераций при заданном alpha"
   ]
  },
  {
   "cell_type": "code",
   "execution_count": 8,
   "metadata": {},
   "outputs": [],
   "source": [
    "alpha = 0.064\n",
    "W = np.array([1, 0.5])"
   ]
  },
  {
   "cell_type": "code",
   "execution_count": 9,
   "metadata": {},
   "outputs": [
    {
     "name": "stdout",
     "output_type": "stream",
     "text": [
      "0 [ 8.0528 22.26  ] 3173.15\n",
      "100 [47.1915266   3.92626907] 45.93968451663295\n",
      "200 [47.23210094  3.91072786] 45.937500001713154\n",
      "300 [47.23214281  3.9107143 ] 45.93749999999997\n",
      "400 [47.23214286  3.91071429] 45.93750000000002\n",
      "500 [47.23214286  3.91071429] 45.937500000000014\n",
      "600 [47.23214286  3.91071429] 45.9375\n",
      "700 [47.23214286  3.91071429] 45.9375\n",
      "800 [47.23214286  3.91071429] 45.9375\n",
      "900 [47.23214286  3.91071429] 45.9375\n"
     ]
    }
   ],
   "source": [
    "errors = []\n",
    "for i in range(1000):\n",
    "  y_pred = np.dot(W, X)\n",
    "  err = calc_mse(y, y_pred)\n",
    "  errors.append(err)\n",
    "  for ii in range(W.shape[0]):\n",
    "    W[ii] -= alpha * (1/n * 2 * np.sum(X[ii] * (y_pred - y)))\n",
    "  if i % 100 == 0:\n",
    "    print(i, W, err)\n"
   ]
  },
  {
   "cell_type": "code",
   "execution_count": 10,
   "metadata": {},
   "outputs": [
    {
     "data": {
      "text/plain": [
       "[<matplotlib.lines.Line2D at 0x1dd9699f470>]"
      ]
     },
     "execution_count": 10,
     "metadata": {},
     "output_type": "execute_result"
    },
    {
     "data": {
      "image/png": "[encoded data removed]",
      "text/plain": [
       "<Figure size 1152x432 with 1 Axes>"
      ]
     },
     "metadata": {
      "needs_background": "light"
     },
     "output_type": "display_data"
    }
   ],
   "source": [
    "# кусок графика зависимости снижения MSE от количества итераций.\n",
    "plt.figure(figsize=(16, 6))\n",
    "plt.plot(np.arange(1,101), errors[:100])"
   ]
  },
  {
   "cell_type": "markdown",
   "metadata": {},
   "source": [
    "по графику мы видим, что при заданной скорости обучения оптимальным количеством итераций будет ~40"
   ]
  },
  {
   "cell_type": "code",
   "execution_count": 11,
   "metadata": {},
   "outputs": [
    {
     "name": "stdout",
     "output_type": "stream",
     "text": [
      "оптимальное число итераций - 76\n"
     ]
    }
   ],
   "source": [
    "# посчитаем так же оптимальное число итераций по условию, что разница в MSE между соседними \n",
    "# итерациями не превышает некую переменную eps\n",
    "eps = 0.01 # желаемое предельное снижение ошибки за итерацию\n",
    "for i in range(len(errors)):\n",
    "    if errors[i-1] - errors[i] < eps and i > 0:\n",
    "        print(f'оптимальное число итераций - {i}')\n",
    "        break"
   ]
  },
  {
   "cell_type": "markdown",
   "metadata": {},
   "source": [
    "Таким образом мы получили alpha = 0.064 и количество итераций ~55"
   ]
  },
  {
   "cell_type": "markdown",
   "metadata": {},
   "source": [
    "#### *2. В этом коде мы избавляемся от итераций по весам, но тут есть ошибка, исправьте ее:"
   ]
  },
  {
   "cell_type": "code",
   "execution_count": 12,
   "metadata": {},
   "outputs": [],
   "source": [
    "n = X.shape[1]\n",
    "alpha = 1e-4\n",
    "W = np.array([1, 0.5])"
   ]
  },
  {
   "cell_type": "code",
   "execution_count": 13,
   "metadata": {},
   "outputs": [
    {
     "name": "stdout",
     "output_type": "stream",
     "text": [
      "0 [1.01102 0.534  ] 3173.15\n",
      "100 [2.02168794 3.452835  ] 2207.6942101483005\n",
      "200 [2.88306663 5.58962851] 1670.7027004086372\n",
      "300 [3.63289519 7.14848061] 1368.0832412796258\n",
      "400 [4.29908617 8.28027926] 1193.7493344933293\n",
      "500 [4.90228732 9.09657298] 1089.714750358689\n",
      "600 [5.45777535 9.67982684] 1024.2828984889413\n",
      "700 [ 5.97685612 10.0910047 ] 980.1260644155933\n",
      "800 [ 6.46789973 10.37517467] 947.770026039189\n",
      "900 [ 6.93710574 10.56565326] 922.0330206910178\n"
     ]
    }
   ],
   "source": [
    "for i in range(1000):\n",
    "  y_pred = np.dot(W, X)\n",
    "  err = calc_mse(y, y_pred)\n",
    "  '''for ii in range(W.shape[0]):\n",
    "    W[ii] -= alpha * (1/n * 2 * np.sum(X[ii] * (y_pred - y)))'''\n",
    "  #W -= (alpha * (1/n * 2 * np.sum(X * (y_pred - y)))) # по этой формуле вы отнимаем одно и то же число из разных весов\n",
    "  W -= (alpha * 2/n * np.dot(X, (np.dot(X.T, W) - y))) # а это по формуле вычисления градиента\n",
    "  if i % 100 == 0:\n",
    "    print(i, W, err)"
   ]
  },
  {
   "cell_type": "markdown",
   "metadata": {},
   "source": [
    "####  *3: вместо того, чтобы задавать количество итераций, задайте условие остановки алгоритма - когда ошибка за итерацию начинает изменяться ниже определенного порога (упрощенный аналог параметра tol в линейной регрессии в sklearn).\n"
   ]
  },
  {
   "cell_type": "markdown",
   "metadata": {},
   "source": [
    "Здесь мы по сути просто объединим то,что уже сделали ранее."
   ]
  },
  {
   "cell_type": "code",
   "execution_count": 22,
   "metadata": {},
   "outputs": [],
   "source": [
    "n = X.shape[1]\n",
    "alpha = 0.064\n",
    "W = np.array([1, 0.5])\n",
    "eps = 0.001 # желаемая точность, сделаем чуть выше чем в задании 2\n",
    "err = np.inf # базовая ошибка для нулевой итерации\n",
    "i = 0 # счетчик для самоконтроля"
   ]
  },
  {
   "cell_type": "code",
   "execution_count": 23,
   "metadata": {},
   "outputs": [
    {
     "name": "stdout",
     "output_type": "stream",
     "text": [
      "[47.16175014  3.93807553] 45.94426042942315 93\n"
     ]
    }
   ],
   "source": [
    "while True:\n",
    "    y_pred = np.dot(W, X)\n",
    "    if err - calc_mse(y, y_pred) < eps:\n",
    "        break\n",
    "    err = calc_mse(y, y_pred)\n",
    "    W -= (alpha * 2/n * np.dot(X, (np.dot(X.T, W) - y))) # а это по формуле вычисления градиента\n",
    "    i += 1\n",
    "print(W, err, i)"
   ]
  },
  {
   "cell_type": "code",
   "execution_count": null,
   "metadata": {},
   "outputs": [],
   "source": []
  },
  {
   "cell_type": "code",
   "execution_count": null,
   "metadata": {},
   "outputs": [],
   "source": []
  },
  {
   "cell_type": "code",
   "execution_count": null,
   "metadata": {},
   "outputs": [],
   "source": []
  }
 ],
 "metadata": {
  "kernelspec": {
   "display_name": "Python 3",
   "language": "python",
   "name": "python3"
  },
  "language_info": {
   "codemirror_mode": {
    "name": "ipython",
    "version": 3
   },
   "file_extension": ".py",
   "mimetype": "text/x-python",
   "name": "python",
   "nbconvert_exporter": "python",
   "pygments_lexer": "ipython3",
   "version": "3.7.3"
  }
 },
 "nbformat": 4,
 "nbformat_minor": 2
}
