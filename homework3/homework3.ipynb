{
 "cells": [
  {
   "cell_type": "code",
   "execution_count": 1,
   "metadata": {},
   "outputs": [],
   "source": [
    "import numpy as np"
   ]
  },
  {
   "cell_type": "code",
   "execution_count": 43,
   "metadata": {},
   "outputs": [],
   "source": [
    "X = np.array([[1, 1, 1, 1, 1, 1, 1, 1, 1, 1],\n",
    "              [1, 1, 2, 1, 3, 0, 5, 10, 1, 2],\n",
    "              [500, 700, 750, 600, 1450,\n",
    "               800, 1500, 2000, 450, 1000],\n",
    "              [1, 1, 2, 1, 2, \n",
    "               1, 3, 3, 1, 2]], dtype = np.float64)\n",
    "y = np.array([0, 0, 1, 0, 1, 0, 1, 0, 1, 1], dtype = np.float64)"
   ]
  },
  {
   "cell_type": "code",
   "execution_count": 44,
   "metadata": {},
   "outputs": [],
   "source": [
    "def std(X):\n",
    "    X = (X - X.mean()) / X.std()\n",
    "    return X"
   ]
  },
  {
   "cell_type": "code",
   "execution_count": 45,
   "metadata": {},
   "outputs": [],
   "source": [
    "def sigmoid(z):\n",
    "    res = 1 / (1 + np.exp(-z))\n",
    "    return res"
   ]
  },
  {
   "cell_type": "code",
   "execution_count": 46,
   "metadata": {},
   "outputs": [],
   "source": [
    "def eval_model(X, y, iters, alpha):\n",
    "    w = [10, 0.1, 0.1, 0.1]\n",
    "    n = X.shape[1]\n",
    "    for i in range(iters+1):\n",
    "        z = np.dot(X.T, w)\n",
    "        y_pred = sigmoid(z)\n",
    "        err = calc_logloss(y, y_pred)\n",
    "        w -= alpha * (1/n * np.dot(X, y_pred - y))\n",
    "        #if i % (iters / 10) == 0:\n",
    "        #    print(w, err)\n",
    "    print(w, err)\n",
    "    return w\n",
    "        "
   ]
  },
  {
   "cell_type": "code",
   "execution_count": 47,
   "metadata": {},
   "outputs": [],
   "source": [
    "X[1] = std(X[1])\n",
    "X[2] = std(X[2])\n",
    "X[3] = std(X[3])"
   ]
  },
  {
   "cell_type": "markdown",
   "metadata": {},
   "source": [
    "### 1*. Измените функцию calc_logloss так, чтобы нули по возможности не попадали в np.log. "
   ]
  },
  {
   "cell_type": "markdown",
   "metadata": {},
   "source": [
    "В np.log попадет 0, если y_pred = 0, либо (1 - y_pred) = 0. <br>\n",
    "Значит, нам нужно вместо 0 и 1 подставить близкие к ним значения"
   ]
  },
  {
   "cell_type": "code",
   "execution_count": 48,
   "metadata": {},
   "outputs": [],
   "source": [
    "def calc_logloss(y, y_pred):\n",
    "    y_pred[y_pred==0] = 1e-10\n",
    "    y_pred[y_pred==1] = 1 - 1e-10\n",
    "    err = - np.mean(y * np.log(y_pred) + (1.0 - y) * np.log(1.0 - y_pred))\n",
    "    return err"
   ]
  },
  {
   "cell_type": "markdown",
   "metadata": {},
   "source": [
    "### 2. Подберите аргументы функции eval_model для логистической регрессии таким образом, чтобы log loss был минимальным."
   ]
  },
  {
   "cell_type": "code",
   "execution_count": 49,
   "metadata": {},
   "outputs": [
    {
     "name": "stdout",
     "output_type": "stream",
     "text": [
      "[9.49506434 0.09998068 0.15725936 0.29395418] 4.685142810324271\n",
      "[ 0.2136248  -2.22085167 -0.84680521  3.63869427] 0.3417912423249548\n",
      "[ 0.43226933 -2.83106151 -1.32378965  4.85253252] 0.3028954728148881\n",
      "[ 0.63049249 -3.20746511 -1.73374446  5.74696185] 0.2820858703765397\n",
      "[ 0.80999224 -3.498882   -2.09731878  6.50018691] 0.26733195071040294\n",
      "[ 0.97529966 -3.7513906  -2.4263351   7.17312841] 0.25556104468113494\n",
      "[ 1.12930513 -3.98200499 -2.72879383  7.79224179] 0.24560533531011872\n",
      "[ 1.27402824 -4.19806695 -3.01042006  8.37154987] 0.2369002270299374\n",
      "[ 1.4107797  -4.40298803 -3.27498984  8.91885041] 0.2291380031711391\n",
      "[ 1.54060298 -4.5987523  -3.52532209  9.43944067] 0.2221237773086437\n"
     ]
    }
   ],
   "source": [
    "alpha = 0.01\n",
    "iters = np.linspace(100, 50000, 10, dtype='int')\n",
    "for i in iters:\n",
    "    eval_model(X, y, i, alpha)"
   ]
  },
  {
   "cell_type": "markdown",
   "metadata": {},
   "source": [
    "как видим, существенное увеличение количества итераций значительное снижает log loss."
   ]
  },
  {
   "cell_type": "markdown",
   "metadata": {},
   "source": [
    "### 3. Создайте функцию calc_pred_proba, возвращающую предсказанную вероятность класса 1 (на вход подаются W, который уже посчитан функцией eval_model и X, на выходе - массив y_pred_proba)"
   ]
  },
  {
   "cell_type": "code",
   "execution_count": 50,
   "metadata": {},
   "outputs": [],
   "source": [
    "def calc_pred_proba(w, X):\n",
    "    z = np.dot(X.T, w)\n",
    "    prob = sigmoid(z)\n",
    "    return(prob)"
   ]
  },
  {
   "cell_type": "markdown",
   "metadata": {},
   "source": [
    "ранее мы уже выполняли эти операции внутри функии eval_model"
   ]
  },
  {
   "cell_type": "code",
   "execution_count": 51,
   "metadata": {},
   "outputs": [
    {
     "name": "stdout",
     "output_type": "stream",
     "text": [
      "[ 0.19223912 -2.11605281 -0.7841385   3.45515045] 0.3494146096966278\n"
     ]
    }
   ],
   "source": [
    "w = eval_model(X, y, 5000, 0.01)"
   ]
  },
  {
   "cell_type": "code",
   "execution_count": 52,
   "metadata": {},
   "outputs": [
    {
     "data": {
      "text/plain": [
       "array([0.28350111, 0.22259881, 0.91187061, 0.25183055, 0.61039477,\n",
       "       0.34151171, 0.96375432, 0.21303764, 0.30020866, 0.87351604])"
      ]
     },
     "execution_count": 52,
     "metadata": {},
     "output_type": "execute_result"
    }
   ],
   "source": [
    "calc_pred_proba(w, X)"
   ]
  },
  {
   "cell_type": "markdown",
   "metadata": {},
   "source": [
    "### 4. Создайте функцию calc_pred, возвращающую предсказанный класс (на вход подаются W, который уже посчитан функцией eval_model и X, на выходе - массив y_pred)."
   ]
  },
  {
   "cell_type": "code",
   "execution_count": 53,
   "metadata": {},
   "outputs": [],
   "source": [
    "def calc_pred(w, X):\n",
    "    y_pred = calc_pred_proba(w, X)\n",
    "    y_pred[y_pred >= 0.5] = 1\n",
    "    y_pred[y_pred < 0.5] = 0\n",
    "    return y_pred"
   ]
  },
  {
   "cell_type": "code",
   "execution_count": 54,
   "metadata": {},
   "outputs": [
    {
     "data": {
      "text/plain": [
       "(array([0., 0., 1., 0., 1., 0., 1., 0., 0., 1.]),\n",
       " array([0., 0., 1., 0., 1., 0., 1., 0., 1., 1.]))"
      ]
     },
     "execution_count": 54,
     "metadata": {},
     "output_type": "execute_result"
    }
   ],
   "source": [
    "calc_pred(w, X), y"
   ]
  },
  {
   "cell_type": "markdown",
   "metadata": {},
   "source": [
    "### 5. Посчитайте Accuracy, матрицу ошибок, точность и полноту, а также F1 score."
   ]
  },
  {
   "cell_type": "code",
   "execution_count": 55,
   "metadata": {},
   "outputs": [],
   "source": [
    "y_pred = calc_pred(w, X)"
   ]
  },
  {
   "cell_type": "code",
   "execution_count": 56,
   "metadata": {},
   "outputs": [],
   "source": [
    "def accuracy(y, y_pred): # доля правильных ответов от выборки\n",
    "    res = 0\n",
    "    for i in range(len(y)):\n",
    "        if y[i] == y_pred[i]:\n",
    "            res +=1\n",
    "    return res/len(y)"
   ]
  },
  {
   "cell_type": "code",
   "execution_count": 57,
   "metadata": {},
   "outputs": [
    {
     "data": {
      "text/plain": [
       "0.9"
      ]
     },
     "execution_count": 57,
     "metadata": {},
     "output_type": "execute_result"
    }
   ],
   "source": [
    "accuracy(y, y_pred)"
   ]
  },
  {
   "cell_type": "code",
   "execution_count": 58,
   "metadata": {},
   "outputs": [],
   "source": [
    "def conf_matrix(y, y_pred):\n",
    "    matrix = [[0,0], [0,0]]\n",
    "    for i in range(len(y)):\n",
    "        if y_pred[i] == 1 and y_pred[i] == y[i]:\n",
    "            matrix[0][0] += 1\n",
    "        if y_pred[i] == 0 and y_pred[i] == y[i]:\n",
    "            matrix[1][1] += 1  \n",
    "        if y_pred[i] == 1 and y_pred[i] != y[i]:\n",
    "            matrix[0][1] += 1\n",
    "        if y_pred[i] == 0  and y_pred[i] != y[i]:\n",
    "            matrix[1][0] += 1\n",
    "    return matrix"
   ]
  },
  {
   "cell_type": "code",
   "execution_count": 59,
   "metadata": {},
   "outputs": [
    {
     "data": {
      "text/plain": [
       "(array([0., 0., 1., 0., 1., 0., 1., 0., 0., 1.]),\n",
       " array([0., 0., 1., 0., 1., 0., 1., 0., 1., 1.]))"
      ]
     },
     "execution_count": 59,
     "metadata": {},
     "output_type": "execute_result"
    }
   ],
   "source": [
    "y_pred, y"
   ]
  },
  {
   "cell_type": "code",
   "execution_count": 60,
   "metadata": {},
   "outputs": [
    {
     "data": {
      "text/plain": [
       "[[4, 0], [1, 5]]"
      ]
     },
     "execution_count": 60,
     "metadata": {},
     "output_type": "execute_result"
    }
   ],
   "source": [
    "conf_matrix(y, y_pred)"
   ]
  },
  {
   "cell_type": "code",
   "execution_count": 61,
   "metadata": {},
   "outputs": [],
   "source": [
    "def precision(y, y_pred):\n",
    "    matrix = conf_matrix(y,y_pred)\n",
    "    tp = matrix[0][0]\n",
    "    tn = matrix[1][1]\n",
    "    fn = matrix[1][0]\n",
    "    fp = matrix[0][1]\n",
    "    prec = tp / (tp + fp)\n",
    "    return prec"
   ]
  },
  {
   "cell_type": "code",
   "execution_count": 62,
   "metadata": {},
   "outputs": [
    {
     "data": {
      "text/plain": [
       "1.0"
      ]
     },
     "execution_count": 62,
     "metadata": {},
     "output_type": "execute_result"
    }
   ],
   "source": [
    "precision(y, y_pred)"
   ]
  },
  {
   "cell_type": "code",
   "execution_count": 63,
   "metadata": {},
   "outputs": [],
   "source": [
    "def recall(y, y_pred):\n",
    "    matrix = conf_matrix(y,y_pred)\n",
    "    tp = matrix[0][0]\n",
    "    tn = matrix[1][1]\n",
    "    fn = matrix[1][0]\n",
    "    fp = matrix[0][1]\n",
    "    rec = tp / (tp + fn)\n",
    "    return rec"
   ]
  },
  {
   "cell_type": "code",
   "execution_count": 64,
   "metadata": {},
   "outputs": [
    {
     "data": {
      "text/plain": [
       "0.8"
      ]
     },
     "execution_count": 64,
     "metadata": {},
     "output_type": "execute_result"
    }
   ],
   "source": [
    "recall(y, y_pred)"
   ]
  },
  {
   "cell_type": "code",
   "execution_count": 65,
   "metadata": {},
   "outputs": [],
   "source": [
    "def f1_score(y, y_pred):\n",
    "    rec = recall(y, y_pred)\n",
    "    prec = precision(y, y_pred)\n",
    "    F = 2*prec*rec / (prec + rec)\n",
    "    return F    "
   ]
  },
  {
   "cell_type": "code",
   "execution_count": 66,
   "metadata": {},
   "outputs": [
    {
     "data": {
      "text/plain": [
       "0.888888888888889"
      ]
     },
     "execution_count": 66,
     "metadata": {},
     "output_type": "execute_result"
    }
   ],
   "source": [
    "f1_score(y, y_pred)"
   ]
  },
  {
   "cell_type": "markdown",
   "metadata": {},
   "source": [
    "### 6. Могла ли модель переобучиться? Почему?"
   ]
  },
  {
   "cell_type": "markdown",
   "metadata": {},
   "source": [
    "модель могла переобучиться, в первую очередь из-за слишком маленькой выборки."
   ]
  },
  {
   "cell_type": "markdown",
   "metadata": {},
   "source": [
    "### 7.  Создайте функции eval_model_l1 и eval_model_l2 с применением L1 и L2 регуляризаций соответственно."
   ]
  },
  {
   "cell_type": "code",
   "execution_count": 67,
   "metadata": {},
   "outputs": [],
   "source": [
    "def eval_model_lasso(X, y, iters, alpha, lambda_):\n",
    "    n = X.shape[1]\n",
    "    np.random.seed(10)\n",
    "    w = np.random.randn(X.shape[0])\n",
    "    #w = np.array([10, 0.1, 0.1, 0.1])\n",
    "    for i in range(iters+1):\n",
    "        y_pred = calc_pred_proba(w, X)\n",
    "        err = calc_logloss(y, y_pred)\n",
    "        w -= alpha * (1/n * np.dot(X, y_pred - y) + lambda_ * w)\n",
    "    print(w, err)\n",
    "    return w   "
   ]
  },
  {
   "cell_type": "code",
   "execution_count": 68,
   "metadata": {},
   "outputs": [
    {
     "name": "stdout",
     "output_type": "stream",
     "text": [
      "[ 0.09418186 -1.38365689 -0.78799358  2.64905661] 0.3962288392485325\n"
     ]
    }
   ],
   "source": [
    "y_pred_l1 = calc_pred(eval_model_lasso(X, y, 5000, 0.01, 0.01), X)"
   ]
  },
  {
   "cell_type": "code",
   "execution_count": 69,
   "metadata": {},
   "outputs": [
    {
     "data": {
      "text/plain": [
       "(array([0., 0., 1., 0., 1., 0., 1., 0., 0., 1.]),\n",
       " array([0., 0., 1., 0., 1., 0., 1., 0., 1., 1.]))"
      ]
     },
     "execution_count": 69,
     "metadata": {},
     "output_type": "execute_result"
    }
   ],
   "source": [
    "y_pred_l1, y"
   ]
  },
  {
   "cell_type": "code",
   "execution_count": 70,
   "metadata": {},
   "outputs": [],
   "source": [
    "def eval_model_ridge(X, y, iters, alpha, lambda_):\n",
    "    n = X.shape[1]\n",
    "    np.random.seed(10)\n",
    "    w = np.random.randn(X.shape[0])\n",
    "    #w = np.array([10, 0.1, 0.1, 0.1])\n",
    "    for i in range(iters+1):\n",
    "        y_pred = calc_pred_proba(w, X)\n",
    "        err = calc_logloss(y, y_pred)\n",
    "        w -= alpha * (2/n * np.dot(X, y_pred - y) + lambda_ * np.sign(w))\n",
    "    print(w, err)\n",
    "    return w   "
   ]
  },
  {
   "cell_type": "code",
   "execution_count": 71,
   "metadata": {},
   "outputs": [
    {
     "name": "stdout",
     "output_type": "stream",
     "text": [
      "[ 0.26935407 -2.37056453 -1.11943642  4.12063162] 0.3250700298940703\n"
     ]
    }
   ],
   "source": [
    "y_pred_l2 = calc_pred(eval_model_ridge(X, y, 5000, 0.01, 0.01), X)"
   ]
  },
  {
   "cell_type": "code",
   "execution_count": 72,
   "metadata": {},
   "outputs": [
    {
     "data": {
      "text/plain": [
       "(array([0., 0., 1., 0., 1., 0., 1., 0., 0., 1.]),\n",
       " array([0., 0., 1., 0., 1., 0., 1., 0., 1., 1.]))"
      ]
     },
     "execution_count": 72,
     "metadata": {},
     "output_type": "execute_result"
    }
   ],
   "source": [
    "y_pred_l2, y"
   ]
  },
  {
   "cell_type": "code",
   "execution_count": null,
   "metadata": {},
   "outputs": [],
   "source": []
  }
 ],
 "metadata": {
  "kernelspec": {
   "display_name": "Python 3",
   "language": "python",
   "name": "python3"
  },
  "language_info": {
   "codemirror_mode": {
    "name": "ipython",
    "version": 3
   },
   "file_extension": ".py",
   "mimetype": "text/x-python",
   "name": "python",
   "nbconvert_exporter": "python",
   "pygments_lexer": "ipython3",
   "version": "3.7.3"
  }
 },
 "nbformat": 4,
 "nbformat_minor": 2
}
